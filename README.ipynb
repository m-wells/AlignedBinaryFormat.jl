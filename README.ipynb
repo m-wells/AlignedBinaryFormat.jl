{
 "cells": [
  {
   "cell_type": "markdown",
   "metadata": {},
   "source": [
    "# AlignedBinaryFormat\n",
    "[![Build Status](https://travis-ci.com/m-wells/AlignedBinaryFormat.jl.svg?branch=master)](https://travis-ci.com/m-wells/AlignedBinaryFormat.jl)\n",
    "[![Coverage Status](https://coveralls.io/repos/github/m-wells/AlignedBinaryFormat.jl/badge.svg?branch=master)](https://coveralls.io/github/m-wells/AlignedBinaryFormat.jl?branch=master)\n",
    "[![codecov](https://codecov.io/gh/m-wells/AlignedBinaryFormat.jl/branch/master/graph/badge.svg)](https://codecov.io/gh/m-wells/AlignedBinaryFormat.jl)\n",
    "\n",
    "This package provides a simple (yet powerful) interface to handle [memory mapped](https://docs.julialang.org/en/v1/stdlib/Mmap/#Memory-mapped-I/O-1) data.\n",
    "The \"data\" must be in the form of `Array`s and `BitArray`s) (although I may later support a `Table` interface).\n",
    "The `eltype` of the `Array` must be a [Julia primitive type](https://docs.julialang.org/en/v1/manual/types/#Primitive-Types-1).\n",
    "When accessing the data we avoid the use of `reinterpret` by **aligning** the arrays on disk.\n",
    "Writing `String`s to labels is also supported but these are not memory mapped (use `Vector{Char}` if you need this functionality.\n",
    "\n",
    "## Usage Example"
   ]
  },
  {
   "cell_type": "code",
   "execution_count": 1,
   "metadata": {},
   "outputs": [
    {
     "data": {
      "text/plain": [
       "AlignedBinaryFormat.AbfFile(r <file /tmp/jl_zgwlDI>)\n",
       "┌────────────┬────────────────────────┬────────────┐\n",
       "│   label    │          type          │   status   │\n",
       "├────────────┼────────────────────────┼────────────┤\n",
       "│   bitmat   │   BitArray{2}(3, 2)    │ not loaded │\n",
       "│    log     │      String(28,)       │ not loaded │\n",
       "│ my x array │  Array{Float16,1}(4,)  │ not loaded │\n",
       "│ whY array  │ Array{Char,3}(2, 2, 2) │ not loaded │\n",
       "│    ζ!/b    │ Array{Float64,2}(2, 3) │ not loaded │\n",
       "└────────────┴────────────────────────┴────────────┘"
      ]
     },
     "execution_count": 1,
     "metadata": {},
     "output_type": "execute_result"
    }
   ],
   "source": [
    "using AlignedBinaryFormat\n",
    "temp = tempname()\n",
    "# writing data out\n",
    "abf = abfopen(temp, \"w\")    # \"w\" is used to write only, memory mapping requires w+\n",
    "write(abf, \"my x array\", rand(Float16,4))\n",
    "write(abf, \"whY array\", rand(Char,2,2,2))\n",
    "close(abf)\n",
    "\n",
    "# do block syntax is supported\n",
    "abfopen(temp, \"r+\") do abf    # \"r+\" allows permits writing to an existing file\n",
    "    abf[\"ζ!/b\"] = rand(2,3)                # alias of write(abf,\"ζ!/b\",rand(2,3))\n",
    "    write(abf, \"bitmat\", rand(3,2) .< 0.5)\n",
    "    # can also save strings (although these are not memory mapped)\n",
    "    #     use Vector{Char} for memory mapping\n",
    "    write(abf, \"log\", \"\"\"\n",
    "        this is what I did\n",
    "        and how!\n",
    "        \"\"\")\n",
    "end\n",
    "\n",
    "abf = abfopen(temp, \"r\")"
   ]
  },
  {
   "cell_type": "markdown",
   "metadata": {},
   "source": [
    "The two methods for accessing the data are `read` and `getindex`, which is simply an alias of `read` and allows for the dictionary-like syntax.\n",
    "When data is first accessed a reference to the item is cached in a dictionary contained within the `AbfFile` instance.\n",
    "This permits the same reference to be returned without remapping the same data multiple times due to repeated `read` calls.\n",
    "Strings are not memory mapped and are copied directly into the cache dictionary."
   ]
  },
  {
   "cell_type": "code",
   "execution_count": 2,
   "metadata": {},
   "outputs": [
    {
     "name": "stdout",
     "output_type": "stream",
     "text": [
      "count(abf[\"bitmat\"]) = 4\n",
      "this is what I did\n",
      "and how!\n",
      "\n",
      "AlignedBinaryFormat.AbfFile(r <file /tmp/jl_zgwlDI>)\n",
      "┌────────────┬────────────────────────┬────────────┐\n",
      "│   label    │          type          │   status   │\n",
      "├────────────┼────────────────────────┼────────────┤\n",
      "│   bitmat   │   BitArray{2}(3, 2)    │   loaded   │\n",
      "│    log     │      String(28,)       │   loaded   │\n",
      "│ my x array │  Array{Float16,1}(4,)  │   loaded   │\n",
      "│ whY array  │ Array{Char,3}(2, 2, 2) │ not loaded │\n",
      "│    ζ!/b    │ Array{Float64,2}(2, 3) │ not loaded │\n",
      "└────────────┴────────────────────────┴────────────┘"
     ]
    }
   ],
   "source": [
    "@show count(abf[\"bitmat\"])\n",
    "read(abf, \"my x array\")        # just calling read(abf, label) loads the array\n",
    "println(read(abf, \"log\"))\n",
    "show(abf)"
   ]
  },
  {
   "cell_type": "markdown",
   "metadata": {},
   "source": [
    "In the example above, `bitmat` and `my x array` are memory mapped and `log` is cached.\n",
    "Doing `abf[\"bitmat\"]` or `read(abf, \"bitmat\")` will return the same reference to `bitmat`."
   ]
  },
  {
   "cell_type": "code",
   "execution_count": 3,
   "metadata": {},
   "outputs": [
    {
     "name": "stdout",
     "output_type": "stream",
     "text": [
      "bitmat1 === bitmat2 = true\n"
     ]
    }
   ],
   "source": [
    "bitmat1 = abf[\"bitmat\"]\n",
    "bitmat2 = read(abf, \"bitmat\")\n",
    "@show bitmat1 === bitmat2;"
   ]
  },
  {
   "cell_type": "markdown",
   "metadata": {},
   "source": [
    "### Modify data on disk\n",
    "If you want to modify data on disk in place you must provide read and write permission `\"r+/w+\"`.\n",
    "Read permission is required"
   ]
  },
  {
   "cell_type": "code",
   "execution_count": 4,
   "metadata": {},
   "outputs": [
    {
     "name": "stdout",
     "output_type": "stream",
     "text": [
      "x = 3×2 Array{Float64,2}:\n",
      " 0.288488  0.435817\n",
      " 0.332386  0.162485\n",
      " 0.376674  0.69332 \n",
      "\n",
      "x = 3×2 Array{Float64,2}:\n",
      " -10.0       0.435817\n",
      "   0.332386  0.162485\n",
      "   0.376674  0.69332 "
     ]
    }
   ],
   "source": [
    "abfopen(temp, \"w+\") do abf\n",
    "    write(abf, \"x\", rand(3,2))\n",
    "    x = read(abf, \"x\")\n",
    "    print(\"x = \")\n",
    "    show(stdout, MIME(\"text/plain\"), x)\n",
    "    println(\"\\n\")\n",
    "end\n",
    "abfopen(temp, \"r+\") do abf\n",
    "    x = read(abf, \"x\")\n",
    "    x[1] = -10\n",
    "    print(\"x = \")\n",
    "    show(stdout, MIME(\"text/plain\"), x)\n",
    "end"
   ]
  },
  {
   "cell_type": "markdown",
   "metadata": {},
   "source": [
    "### You can verify that it actually wrote this to disk"
   ]
  },
  {
   "cell_type": "code",
   "execution_count": 5,
   "metadata": {},
   "outputs": [
    {
     "name": "stdout",
     "output_type": "stream",
     "text": [
      "x = 3×2 Array{Float64,2}:\n",
      " -10.0       0.435817\n",
      "   0.332386  0.162485\n",
      "   0.376674  0.69332 "
     ]
    }
   ],
   "source": [
    "abfopen(temp, \"r\") do abf\n",
    "    x = read(abf, \"x\")\n",
    "    print(\"x = \")\n",
    "    show(stdout, MIME(\"text/plain\"), x)\n",
    "end"
   ]
  },
  {
   "cell_type": "markdown",
   "metadata": {},
   "source": [
    "## Why not use `JLD/HDF5`?\n",
    " 1. They do not support memory mapping of **any** Julia `isbits` primitive type (see [here for supported data types](https://github.com/JuliaIO/HDF5.jl/blob/master/doc/hdf5.md#supported-data-types)).\n",
    " 2. When memory mapping they often return an array as a `ReinterpretArray` forcing the use of `AbstractArray` in `Type` and `Function` definitions."
   ]
  },
  {
   "cell_type": "code",
   "execution_count": 6,
   "metadata": {},
   "outputs": [
    {
     "name": "stdout",
     "output_type": "stream",
     "text": [
      "typeof(x) = Array{Float16,2}\n",
      "typeof(y) = BitArray{2}\n",
      "typeof(z) = Array{Float64,1}\n"
     ]
    }
   ],
   "source": [
    "x = rand(Float16,3,2);\n",
    "y = x .< 0.5;\n",
    "z = rand(29);\n",
    "@show typeof(x);\n",
    "@show typeof(y);\n",
    "@show typeof(z);"
   ]
  },
  {
   "cell_type": "code",
   "execution_count": 7,
   "metadata": {},
   "outputs": [
    {
     "name": "stdout",
     "output_type": "stream",
     "text": [
      "ismmappable(j[\"x\"]) = false\n",
      "typeof(read(j, \"x\")) = Array{Float16,2}\n",
      "typeof(read(j, \"y\")) = BitArray{2}\n",
      "typeof(read(j, \"z\")) = Base.ReinterpretArray{Float64,1,UInt8,Array{UInt8,1}}\n"
     ]
    }
   ],
   "source": [
    "using JLD, HDF5\n",
    "jldopen(temp, \"w\"; mmaparrays=true) do j\n",
    "    write(j,\"x\",x)\n",
    "    write(j,\"y\",y)\n",
    "    write(j,\"z\",z)\n",
    "end\n",
    "jldopen(temp, \"r\"; mmaparrays=true) do j\n",
    "    @show ismmappable(j[\"x\"])\n",
    "    @show typeof(read(j,\"x\"))\n",
    "    @show typeof(read(j,\"y\"))\n",
    "    @show typeof(read(j,\"z\"))\n",
    "end\n",
    "rm(temp)"
   ]
  },
  {
   "cell_type": "markdown",
   "metadata": {},
   "source": [
    "As you can see `x::Matrix{Float16}` isn't able to be memory mapped and `z::Vector{Float64}` gets read back as `ReinterpretArray`\n",
    "\n",
    "## Why not use `JLD2`\n",
    "`JLD2` doesn't actually support memory mapping.\n",
    "See my comment [here](https://github.com/JuliaIO/JLD2.jl/pull/176#issue-369260445).\n",
    "\n",
    "---\n",
    "\n",
    "# File Layout\n",
    "As an example lets examine what the structure of the following file would look like."
   ]
  },
  {
   "cell_type": "code",
   "execution_count": 8,
   "metadata": {},
   "outputs": [
    {
     "name": "stdout",
     "output_type": "stream",
     "text": [
      "AlignedBinaryFormat.AbfFile(w+ <file /tmp/jl_zgwlDI>)\n",
      "┌───────────┬─────────────────────────┬────────────┐\n",
      "│   label   │          type           │   status   │\n",
      "├───────────┼─────────────────────────┼────────────┤\n",
      "│    log    │       String(36,)       │ not loaded │\n",
      "│    myX    │ Array{Float16,2}(10, 3) │ not loaded │\n",
      "│   somez   │  Array{Float64,1}(29,)  │ not loaded │\n",
      "│ whybitarr │    BitArray{2}(3, 2)    │ not loaded │\n",
      "└───────────┴─────────────────────────┴────────────┘"
     ]
    }
   ],
   "source": [
    "abfopen(temp, \"w+\") do abf\n",
    "    abf[\"myX\"] = rand(Float16,10,3)\n",
    "    abf[\"whybitarr\"] = x .< 0.5\n",
    "    abf[\"log\"] = \"some log information about this file\"\n",
    "    abf[\"somez\"] = rand(29)\n",
    "    show(abf)\n",
    "end;"
   ]
  },
  {
   "cell_type": "markdown",
   "metadata": {},
   "source": [
    "The file will have the following layout\n",
    "* 6 characters (`Char`) indicating endian-ness of the numeric data contained within\n",
    "    * `\"LITTLE\"` or `\"BIG   \"` (this depends on the host machine generating the file, currently conversion between little and big is not supported)\n",
    "For each of the stored `Arrays`\n",
    "* an `Int` indicating the length of the key `length(keyname)`\n",
    "* the `String` which is the `key` of the array\n",
    "* an `Int` indicating the length of `string(T<:Union{Array,BitArray})`\n",
    "* the `String` representation of the \"container\", i.e.,  `\"Array\"`, `\"BitArray\"` or `\"String\"`\n",
    "    * there is no arbitrary code evaluation, types are determined via an `ImmutableDict{String,DataType}`\n",
    "* for `\"Array\"`s an `Int` and `string(T)`\n",
    "* an `Int` indication the number of dimensions `N`\n",
    "* `N` `Int`s that give the shape of the array\n",
    "* the buffer is then **aligned** to `T`\n",
    "* the data\n",
    "\n",
    "Note: the labels are displayed sorted by label but are written to the file sequentially.\n",
    "\n",
    "```\n",
    "<BOF> # beginning of file\n",
    "LITTLE\n",
    "3                               # length of \"myX\"\n",
    "myX                             # label of first item\n",
    "5                               # length of \"Array\"\n",
    "Array\n",
    "7                               # length of \"Float16\"\n",
    "Float16\n",
    "2                               # number of dimensions\n",
    "10                              # length of dimension 1\n",
    "3                               # length of dimension 2\n",
    "... (alignment spacing)\n",
    "<the data>\n",
    "9                               # length of \"whybitarr\"\n",
    "whybitarr                       # label of second item\n",
    "8                               # length of \"BitArray\"\n",
    "BitArray\n",
    "2                               # number of dimensions\n",
    "10                              # length of dimension 1\n",
    "3                               # length of dimension 2\n",
    "... (alignment spacing)\n",
    "<the data>\n",
    "3                               # length of \"log\"\n",
    "log                             # label of third item\n",
    "6                               # length of \"String\"\n",
    "String\n",
    "36                              # length of \"some log information ...\"\n",
    "some log information ...\n",
    "5                               # length of \"somez\"\n",
    "somez                           # label of fourth item\n",
    "5                               # length of \"Array\"\n",
    "Array\n",
    "7                               # length of \"Float64\"\n",
    "Float64\n",
    "1                               # number of dimensions\n",
    "29                              # length of dimension 1\n",
    "... (alignment spacing)\n",
    "<the data>\n",
    "<EOF> # end of file\n",
    "```\n",
    "\n",
    "# Acknowledgements\n",
    "Early inspiration was drawn from [this gist](https://gist.github.com/dataPulverizer/3dc0af456a427aeb704a437e31299242)."
   ]
  },
  {
   "cell_type": "code",
   "execution_count": null,
   "metadata": {},
   "outputs": [],
   "source": []
  }
 ],
 "metadata": {
  "kernelspec": {
   "display_name": "Julia 1.2.0",
   "language": "julia",
   "name": "julia-1.2"
  },
  "language_info": {
   "file_extension": ".jl",
   "mimetype": "application/julia",
   "name": "julia",
   "version": "1.2.0"
  }
 },
 "nbformat": 4,
 "nbformat_minor": 4
}
