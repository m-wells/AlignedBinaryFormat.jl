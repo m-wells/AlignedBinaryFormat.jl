{
 "cells": [
  {
   "cell_type": "markdown",
   "metadata": {},
   "source": [
    "# AlignedBinaryFormat\n",
    "[![Build Status](https://travis-ci.com/m-wells/AlignedBinaryFormat.jl.svg?branch=master)](https://travis-ci.com/m-wells/AlignedBinaryFormat.jl)\n",
    "[![Coverage Status](https://coveralls.io/repos/github/m-wells/AlignedBinaryFormat.jl/badge.svg?branch=master)](https://coveralls.io/github/m-wells/AlignedBinaryFormat.jl?branch=master)\n",
    "[![codecov](https://codecov.io/gh/m-wells/AlignedBinaryFormat.jl/branch/master/graph/badge.svg)](https://codecov.io/gh/m-wells/AlignedBinaryFormat.jl)\n",
    "\n",
    "This package provides a simple (yet powerful) interface allowing data (in the form of `Arrays/BitArrays`) to be saved in a simple binary format that can be \"memory-mapped\" without the use of `reinterpret`.\n",
    "This is achieved by aligning the arrays on disk.\n",
    "\n",
    "## Usage Example"
   ]
  },
  {
   "cell_type": "code",
   "execution_count": 1,
   "metadata": {},
   "outputs": [],
   "source": [
    "using AlignedBinaryFormat\n",
    "temp = tempname()\n",
    "abf = abfopen(temp, \"w\")\n",
    "write(abf, \"my x array\", rand(Float16,4))\n",
    "write(abf, \"whY array\", rand(Char,2,2,2))\n",
    "write(abf, \"ζ!/b\", rand(2,3))\n",
    "write(abf, \"bitmat\", rand(3,2) .< 0.5)\n",
    "close(abf)"
   ]
  },
  {
   "cell_type": "markdown",
   "metadata": {},
   "source": [
    "### Do block syntax is supported"
   ]
  },
  {
   "cell_type": "code",
   "execution_count": 2,
   "metadata": {},
   "outputs": [
    {
     "name": "stdout",
     "output_type": "stream",
     "text": [
      "bitmat = 3×2 BitArray{2}:\n",
      " 0  1\n",
      " 0  1\n",
      " 0  0\n",
      "\n",
      "whY array = 2×2×2 Array{Char,3}:\n",
      "[:, :, 1] =\n",
      " '\\U812d8'  '𭑂'      \n",
      " '\\Ua0341'  '\\Uf2784'\n",
      "\n",
      "[:, :, 2] =\n",
      " '\\U5c8c4'  '\\Ud8b0d'\n",
      " '\\Ufb062'  '\\U55e4f'\n",
      "\n",
      "ζ!/b = 2×3 Array{Float64,2}:\n",
      " 0.62056   0.82266   0.392541\n",
      " 0.451849  0.678043  0.996425\n",
      "\n",
      "my x array = 4-element Array{Float16,1}:\n",
      " 0.3809\n",
      " 0.998 \n",
      " 0.8438\n",
      " 0.5186\n",
      "\n"
     ]
    }
   ],
   "source": [
    "abfopen(temp, \"r\") do abf\n",
    "    print(\"bitmat = \")\n",
    "    show(stdout, MIME(\"text/plain\"), read(abf, \"bitmat\"))\n",
    "    println(\"\\n\")\n",
    "    \n",
    "    print(\"whY array = \")\n",
    "    show(stdout, MIME(\"text/plain\"), read(abf, \"whY array\"))\n",
    "    println(\"\\n\")\n",
    "    \n",
    "    print(\"ζ!/b = \")\n",
    "    show(stdout, MIME(\"text/plain\"), read(abf, \"ζ!/b\"))\n",
    "    println(\"\\n\")\n",
    "    \n",
    "    print(\"my x array = \")\n",
    "    show(stdout, MIME(\"text/plain\"), read(abf, \"my x array\"))\n",
    "    println(\"\\n\")\n",
    "end\n",
    "rm(temp)"
   ]
  },
  {
   "cell_type": "markdown",
   "metadata": {},
   "source": [
    "### Modify data on disk\n",
    "If you want to modify data on disk in place you must provide read and write permission `\"r+/w+\"`"
   ]
  },
  {
   "cell_type": "code",
   "execution_count": 3,
   "metadata": {},
   "outputs": [
    {
     "name": "stdout",
     "output_type": "stream",
     "text": [
      "x = 3×2 Array{Float64,2}:\n",
      " 0.516492  0.895526\n",
      " 0.750149  0.928451\n",
      " 0.626819  0.532503\n",
      "\n",
      "x = 3×2 Array{Float64,2}:\n",
      " -10.0       0.895526\n",
      "   0.750149  0.928451\n",
      "   0.626819  0.532503"
     ]
    }
   ],
   "source": [
    "temp = tempname()\n",
    "abfopen(temp, \"w+\") do abf\n",
    "    write(abf, \"x\", rand(3,2))\n",
    "    x = read(abf, \"x\")\n",
    "    print(\"x = \")\n",
    "    show(stdout, MIME(\"text/plain\"), x)\n",
    "    println(\"\\n\")\n",
    "end\n",
    "abfopen(temp, \"r+\") do abf\n",
    "    x = read(abf, \"x\")\n",
    "    x[1] = -10\n",
    "    print(\"x = \")\n",
    "    show(stdout, MIME(\"text/plain\"), x)\n",
    "end"
   ]
  },
  {
   "cell_type": "markdown",
   "metadata": {},
   "source": [
    "### You can verify that it actually wrote this to disk"
   ]
  },
  {
   "cell_type": "code",
   "execution_count": 4,
   "metadata": {},
   "outputs": [
    {
     "name": "stdout",
     "output_type": "stream",
     "text": [
      "x = 3×2 Array{Float64,2}:\n",
      " -10.0       0.895526\n",
      "   0.750149  0.928451\n",
      "   0.626819  0.532503"
     ]
    }
   ],
   "source": [
    "abfopen(temp, \"r\") do abf\n",
    "    x = read(abf, \"x\")\n",
    "    print(\"x = \")\n",
    "    show(stdout, MIME(\"text/plain\"), x)\n",
    "end\n",
    "rm(temp)"
   ]
  },
  {
   "cell_type": "markdown",
   "metadata": {},
   "source": [
    "## Why not use `JLD/HDF5`?\n",
    " 1. They do not support memory mapping of any Julia `isbits` primitive type (see [here for supported data types](https://github.com/JuliaIO/HDF5.jl/blob/master/doc/hdf5.md#supported-data-types)).\n",
    " 2. When memory mapping they can often return an array as a `ReinterpretArray` forcing the use of `AbstractArray` in `Type` and `Function` definitions."
   ]
  },
  {
   "cell_type": "code",
   "execution_count": 5,
   "metadata": {},
   "outputs": [
    {
     "name": "stdout",
     "output_type": "stream",
     "text": [
      "typeof(x) = Array{Float16,2}\n",
      "typeof(y) = BitArray{2}\n",
      "typeof(z) = Array{Float64,1}\n"
     ]
    }
   ],
   "source": [
    "x = rand(Float16,3,2);\n",
    "y = x .< 0.5;\n",
    "z = rand(29);\n",
    "@show typeof(x);\n",
    "@show typeof(y);\n",
    "@show typeof(z);"
   ]
  },
  {
   "cell_type": "code",
   "execution_count": 6,
   "metadata": {},
   "outputs": [
    {
     "name": "stdout",
     "output_type": "stream",
     "text": [
      "ismmappable(j[\"x\"]) = false\n",
      "typeof(read(j, \"x\")) = Array{Float16,2}\n",
      "typeof(read(j, \"y\")) = BitArray{2}\n",
      "typeof(read(j, \"z\")) = Base.ReinterpretArray{Float64,1,UInt8,Array{UInt8,1}}\n"
     ]
    }
   ],
   "source": [
    "using JLD, HDF5\n",
    "temp = tempname()\n",
    "jldopen(temp, \"w\"; mmaparrays=true) do j\n",
    "    write(j,\"x\",x)\n",
    "    write(j,\"y\",y)\n",
    "    write(j,\"z\",z)\n",
    "end\n",
    "jldopen(temp, \"r\"; mmaparrays=true) do j\n",
    "    @show ismmappable(j[\"x\"])\n",
    "    @show typeof(read(j,\"x\"))\n",
    "    @show typeof(read(j,\"y\"))\n",
    "    @show typeof(read(j,\"z\"))\n",
    "end\n",
    "rm(temp)"
   ]
  },
  {
   "cell_type": "markdown",
   "metadata": {},
   "source": [
    "As you can see `x` isn't able to be memory mapped and `z` gets read back as `ReinterpretArray`\n",
    "\n",
    "## Why not use `JLD2`\n",
    "`JLD2` doesn't actually support memory mapping.\n",
    "See my comment [here](https://github.com/JuliaIO/JLD2.jl/pull/176#issue-369260445).\n",
    "\n",
    "---\n",
    "\n",
    "# File Layout\n",
    "As an example lets look use the following arrays."
   ]
  },
  {
   "cell_type": "code",
   "execution_count": 7,
   "metadata": {},
   "outputs": [
    {
     "name": "stdout",
     "output_type": "stream",
     "text": [
      "typeof(x) = Array{Float16,2}\n",
      "typeof(y) = BitArray{2}\n",
      "typeof(z) = Array{Float64,1}\n"
     ]
    }
   ],
   "source": [
    "x = rand(Float16,10,3)\n",
    "y = x .< 0.5\n",
    "z = rand(29)\n",
    "@show typeof(x)\n",
    "@show typeof(y)\n",
    "@show typeof(z);"
   ]
  },
  {
   "cell_type": "markdown",
   "metadata": {},
   "source": [
    "The file will have the following layout\n",
    "* 6 characters (`Char`) indicating endian-ness of the numeric data contained within\n",
    "    * `\"LITTLE\"` or `\"BIG   \"` (this depends on the host machine generating the file, currently conversion between little and big is not supported)\n",
    "For each of the stored `Arrays`\n",
    "* an `Int` indicating the length of the key `length(keyname)`\n",
    "* the `String` which is the `key` of the array\n",
    "* an `Int` indicating the length of `string(T<:Union{Array,BitArray})`\n",
    "* the `String` representation of the array, i.e.,  `\"Array\"` or `\"BitArray\"`\n",
    "    * there is no arbitrary code evaluation, types are determined via an `ImmutableDict{String,DataType}`\n",
    "* for `\"Array\"`s an `Int` and `string(T)`\n",
    "* an `Int` indication the number of dimensions `N`\n",
    "* `N` `Int`s that give the shape of the array\n",
    "* the buffer is then **aligned** to `T`\n",
    "* the data\n",
    "\n",
    "So for our example (with the names of the arrays \"myX\", \"whybitarr\", and \"somez\" respectively\n",
    "```\n",
    "<BOF> # beginning of file\n",
    "LITTLE\n",
    "3                               # length of \"myX\"\n",
    "myX                             # label of first array\n",
    "5                               # length of \"Array\"\n",
    "Array\n",
    "7                               # length of \"Float16\"\n",
    "Float16\n",
    "2                               # number of dimensions\n",
    "10                              # length of dimension 1\n",
    "3                               # length of dimension 2\n",
    "... (alignment spacing)\n",
    "<the data>\n",
    "9                               # length of \"whybitarr\"\n",
    "whybitarr                       # label of second array\n",
    "8                               # length of \"BitArray\"\n",
    "BitArray\n",
    "2                               # number of dimensions\n",
    "10                              # length of dimension 1\n",
    "3                               # length of dimension 2\n",
    "... (alignment spacing)\n",
    "<the data>\n",
    "5                               # length of \"somez\"\n",
    "somez                           # label of third array\n",
    "5                               # length of \"Array\"\n",
    "Array\n",
    "7                               # length of \"Float64\"\n",
    "Float64\n",
    "1                               # number of dimensions\n",
    "29                              # length of dimension 1\n",
    "... (alignment spacing)\n",
    "<the data>\n",
    "<EOF> # end of file\n",
    "```\n",
    "\n",
    "# Acknowledgements\n",
    "Early inspiration was drawn from [this gist](https://gist.github.com/dataPulverizer/3dc0af456a427aeb704a437e31299242)."
   ]
  }
 ],
 "metadata": {
  "kernelspec": {
   "display_name": "Julia 1.2.0",
   "language": "julia",
   "name": "julia-1.2"
  },
  "language_info": {
   "file_extension": ".jl",
   "mimetype": "application/julia",
   "name": "julia",
   "version": "1.2.0"
  }
 },
 "nbformat": 4,
 "nbformat_minor": 4
}
